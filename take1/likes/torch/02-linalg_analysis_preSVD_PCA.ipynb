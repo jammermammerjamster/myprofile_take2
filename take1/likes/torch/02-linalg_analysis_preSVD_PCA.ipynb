{
 "cells": [
  {
   "cell_type": "code",
   "execution_count": 4,
   "id": "08060b87-a1ae-4dc8-b65e-c44b2531b16b",
   "metadata": {},
   "outputs": [],
   "source": [
    "import pickle\n",
    "import scipy.sparse"
   ]
  },
  {
   "cell_type": "code",
   "execution_count": 5,
   "id": "0fee66f9-a5d5-4218-85ba-cec9ac1ab951",
   "metadata": {},
   "outputs": [
    {
     "data": {
      "text/plain": [
       "(9500, 536204)"
      ]
     },
     "execution_count": 5,
     "metadata": {},
     "output_type": "execute_result"
    }
   ],
   "source": [
    "likesMAT = pickle.load(open(\"likesMAT.pkl\",\"rb\"))\n",
    "likesMAT.shape"
   ]
  },
  {
   "cell_type": "code",
   "execution_count": 3,
   "id": "922a3bf3-b5ff-4fd0-8003-751285332ea1",
   "metadata": {},
   "outputs": [
    {
     "data": {
      "text/plain": [
       "(9500, 536204)"
      ]
     },
     "execution_count": 3,
     "metadata": {},
     "output_type": "execute_result"
    }
   ],
   "source": [
    "agesARR = pickle.load(open(\"agesARR.pkl\", \""
   ]
  },
  {
   "cell_type": "code",
   "execution_count": null,
   "id": "07cbe87d-80a7-4b2b-8da2-39c8f49de3d1",
   "metadata": {},
   "outputs": [],
   "source": []
  }
 ],
 "metadata": {
  "kernelspec": {
   "display_name": "keras_torch",
   "language": "python",
   "name": "keras_torch"
  },
  "language_info": {
   "codemirror_mode": {
    "name": "ipython",
    "version": 3
   },
   "file_extension": ".py",
   "mimetype": "text/x-python",
   "name": "python",
   "nbconvert_exporter": "python",
   "pygments_lexer": "ipython3",
   "version": "3.11.2"
  }
 },
 "nbformat": 4,
 "nbformat_minor": 5
}
