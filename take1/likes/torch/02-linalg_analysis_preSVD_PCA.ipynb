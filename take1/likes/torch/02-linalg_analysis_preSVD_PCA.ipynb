{
 "cells": [
  {
   "cell_type": "code",
   "execution_count": 1,
   "id": "08060b87-a1ae-4dc8-b65e-c44b2531b16b",
   "metadata": {},
   "outputs": [
    {
     "name": "stdout",
     "output_type": "stream",
     "text": [
      "cuda\n"
     ]
    }
   ],
   "source": [
    "import pickle\n",
    "import numpy as np\n",
    "import pandas as pd\n",
    "from scipy import linalg, sparse\n",
    "from sklearn.model_selection import train_test_split\n",
    "from torch.utils.data import TensorDataset\n",
    "import torch\n",
    "\n",
    "device = torch.device('cuda' if torch.cuda.is_available() else 'cpu')\n",
    "print(device)"
   ]
  },
  {
   "cell_type": "code",
   "execution_count": 2,
   "id": "df5f7ad2-0439-4973-92f3-a0da3575d4d5",
   "metadata": {},
   "outputs": [],
   "source": [
    "import matplotlib.pyplot as pp\n",
    "from sklearn.decomposition import TruncatedSVD, PCA\n",
    "from scipy.sparse import csr_matrix\n",
    "from sklearn.preprocessing import StandardScaler"
   ]
  },
  {
   "cell_type": "markdown",
   "id": "bfbb5c81-df10-47b6-8b75-a4979633dd45",
   "metadata": {},
   "source": [
    "## 02 - Analyze the data to determine the *k*-value to use for SVD and PCA\n",
    "\n",
    "Determine the *k*-value to use for the SVD and PCA dimensional reductions"
   ]
  },
  {
   "cell_type": "markdown",
   "id": "084dffa9-ecc5-4bab-8dcc-e1774e2f5a88",
   "metadata": {},
   "source": [
    "### 2.1) Import Preprocessed data from step 1\n",
    "\n",
    "Import the likes data"
   ]
  },
  {
   "cell_type": "code",
   "execution_count": 3,
   "id": "0fee66f9-a5d5-4218-85ba-cec9ac1ab951",
   "metadata": {},
   "outputs": [
    {
     "data": {
      "text/plain": [
       "(9500, 536204)"
      ]
     },
     "execution_count": 3,
     "metadata": {},
     "output_type": "execute_result"
    }
   ],
   "source": [
    "likesMAT = pickle.load(open(\"likesMAT.pkl\",\"rb\"))\n",
    "likesMAT.shape"
   ]
  },
  {
   "cell_type": "markdown",
   "id": "51b8cfa8-8cd0-49fb-9c6e-777c79a08409",
   "metadata": {},
   "source": [
    "Import the ages data"
   ]
  },
  {
   "cell_type": "code",
   "execution_count": 4,
   "id": "922a3bf3-b5ff-4fd0-8003-751285332ea1",
   "metadata": {},
   "outputs": [
    {
     "data": {
      "text/plain": [
       "(9500, 4)"
      ]
     },
     "execution_count": 4,
     "metadata": {},
     "output_type": "execute_result"
    }
   ],
   "source": [
    "agesARR = pickle.load(open(\"agesARR.pkl\", \"rb\"))\n",
    "agesARR.shape"
   ]
  },
  {
   "cell_type": "markdown",
   "id": "d0053cff-3985-4415-b9cc-269228f25da2",
   "metadata": {},
   "source": [
    "Do a train/test split"
   ]
  },
  {
   "cell_type": "code",
   "execution_count": 5,
   "id": "07cbe87d-80a7-4b2b-8da2-39c8f49de3d1",
   "metadata": {},
   "outputs": [],
   "source": [
    "train_likesMAT, test_likesMAT, train_agesARR, test_agesARR = train_test_split(likesMAT, agesARR, test_size=0.05, random_state=42)"
   ]
  },
  {
   "cell_type": "markdown",
   "id": "52a7abde-8129-461e-b324-14cd8ce3e443",
   "metadata": {},
   "source": [
    "### 2.2) Compute eigenvalues\n",
    "\n",
    "First, get a square matrix of the smallest dimension"
   ]
  },
  {
   "cell_type": "code",
   "execution_count": 6,
   "id": "3fe68170-dc35-4625-b1d7-3e3546b1433b",
   "metadata": {},
   "outputs": [
    {
     "data": {
      "text/plain": [
       "(9025, 9025)"
      ]
     },
     "execution_count": 6,
     "metadata": {},
     "output_type": "execute_result"
    }
   ],
   "source": [
    "sq_likesMAT_1 = np.dot(train_likesMAT, train_likesMAT.T)\n",
    "sq_likesMAT_1.shape"
   ]
  },
  {
   "cell_type": "markdown",
   "id": "9e352a24-ddee-4688-be58-f7e7dea87a00",
   "metadata": {},
   "source": [
    "Convert the square matrix to a Torch tensor and move to GPU"
   ]
  },
  {
   "cell_type": "code",
   "execution_count": 7,
   "id": "679d913a-ec5a-4762-af11-ce7e49133bbf",
   "metadata": {},
   "outputs": [],
   "source": [
    "tensor_sq_likesMAT = torch.Tensor(sq_likesMAT_1.todense()) \\\n",
    "                            .to(torch.float) \\\n",
    "                            .cuda()"
   ]
  },
  {
   "cell_type": "markdown",
   "id": "1c73b425-3777-475d-bf99-e7a4f7583959",
   "metadata": {},
   "source": [
    "Compute the eigenvalues on the GPU, cast to reals only (*there should be no imaginary parts*), return to the CPU, and convert to a 1D numpy array"
   ]
  },
  {
   "cell_type": "code",
   "execution_count": null,
   "id": "8cd2ee4d-b6c9-4637-8648-2ccd45d5e6b6",
   "metadata": {},
   "outputs": [],
   "source": [
    "tensor_sq_likesMAT_evals = torch.linalg.eig(tensor_sq_likesMAT)\n",
    "\n",
    "sq_likesMAT_evals = tensor_sq_likesMAT_evals.eigenvalues.to(torch.float32).cpu().numpy()\n",
    "print(sq_likesMAT_evals)"
   ]
  },
  {
   "cell_type": "markdown",
   "id": "78a9418a-a1d5-4a50-905f-489dd50c5fa8",
   "metadata": {},
   "source": [
    "Clean-up GPU VRAM to preserve available space to work"
   ]
  },
  {
   "cell_type": "code",
   "execution_count": null,
   "id": "ee1f22ed-5ed7-4314-a6fb-94de788567a3",
   "metadata": {},
   "outputs": [],
   "source": [
    "del tensor_sq_likesMAT_evals\n",
    "del tensor_sq_likesMAT\n",
    "\n",
    "torch.cuda.empty_cache()"
   ]
  },
  {
   "cell_type": "markdown",
   "id": "59e51dd1-7971-4bb0-948f-2420b1f735f5",
   "metadata": {},
   "source": [
    "Print the last hundred of so eigenvalues"
   ]
  },
  {
   "cell_type": "code",
   "execution_count": null,
   "id": "3c4b23d6-b2fb-472c-b7e1-b328ffad7be9",
   "metadata": {},
   "outputs": [],
   "source": [
    "print(np.sort(sq_likesMAT_evals)[8900:])"
   ]
  },
  {
   "cell_type": "markdown",
   "id": "ea9816a4-8420-438a-8d17-348725765bb4",
   "metadata": {},
   "source": [
    "Plot the eigenvalues in order of magnitude"
   ]
  },
  {
   "cell_type": "code",
   "execution_count": null,
   "id": "02fbc5d3-4bfb-4d04-bcdb-9034b61f3868",
   "metadata": {},
   "outputs": [],
   "source": [
    "ind_to_start = 4000 #8050\n",
    "pp.plot(np.asarray(range(np.unique(sq_likesMAT_evals)[ind_to_start:].shape[0])), np.sort(np.unique(sq_likesMAT_evals))[ind_to_start:], 'x')\n",
    "pp.show()"
   ]
  },
  {
   "cell_type": "markdown",
   "id": "5c56e137-5e2c-4de5-9881-e9401a1d9164",
   "metadata": {},
   "source": [
    "Calculate the deltas between eigenvalues and print the last hundred or so"
   ]
  },
  {
   "cell_type": "code",
   "execution_count": null,
   "id": "1e75ca79-b14b-4d53-a2d5-b7aab07db8f5",
   "metadata": {},
   "outputs": [],
   "source": [
    "sq_likesMAT_evals_deltas = []\n",
    "for i in range(1, sq_likesMAT_evals.shape[0]):\n",
    "    sq_likesMAT_evals_deltas.append(np.sort(sq_likesMAT_evals)[i] - np.sort(sq_likesMAT_evals)[i-1])\n",
    "\n",
    "sq_likesMAT_evals_deltas = np.asarray(sq_likesMAT_evals_deltas)\n",
    "sq_likesMAT_evals_deltas.shape"
   ]
  },
  {
   "cell_type": "code",
   "execution_count": null,
   "id": "a9f0d5ad-8c30-4a78-aa8e-bbf2cd11549e",
   "metadata": {},
   "outputs": [],
   "source": [
    "np.unique(sq_likesMAT_evals_deltas).shape"
   ]
  },
  {
   "cell_type": "markdown",
   "id": "73e20b2e-a9a8-4ac7-b774-d9d284dde216",
   "metadata": {},
   "source": [
    "Print out the top values"
   ]
  },
  {
   "cell_type": "code",
   "execution_count": null,
   "id": "a648ffd8-c6f3-4efa-af78-826c359f55e3",
   "metadata": {},
   "outputs": [],
   "source": [
    "print(np.sort(sq_likesMAT_evals_deltas)[8900:])\n",
    "np.sort(sq_likesMAT_evals_deltas)[8900:].shape"
   ]
  },
  {
   "cell_type": "markdown",
   "id": "ba322062-ecf2-47bc-8534-94ab5be65016",
   "metadata": {},
   "source": [
    "Plot the eigenvalue deltas in order of magnitude"
   ]
  },
  {
   "cell_type": "code",
   "execution_count": null,
   "id": "8fa1604e-9c60-4414-8726-a680926d7a3b",
   "metadata": {},
   "outputs": [],
   "source": [
    "ind_to_start = 2000\n",
    "pp.plot(np.asarray(range(sq_likesMAT_evals_deltas[ind_to_start:].shape[0])), np.sort(sq_likesMAT_evals_deltas)[ind_to_start:], 'x')\n",
    "pp.show()"
   ]
  },
  {
   "cell_type": "markdown",
   "id": "361d6856-c4aa-48d4-8afd-32f3131255c5",
   "metadata": {},
   "source": [
    "### 2.3) Compute PCA stuff\n",
    "\n",
    "PCA requires scaling our inputs, so we have"
   ]
  },
  {
   "cell_type": "code",
   "execution_count": null,
   "id": "748c390e-d2a2-4b8c-b9eb-77216093c147",
   "metadata": {},
   "outputs": [],
   "source": [
    "scaler = StandardScaler(with_mean=False)\n",
    "train_likesMAT_std = scaler.fit_transform(train_likesMAT)\n",
    "test_likesMAT_std = scaler.transform(test_likesMAT)"
   ]
  },
  {
   "cell_type": "markdown",
   "id": "a06d31c0-a955-460d-881c-60e8a34dc32e",
   "metadata": {},
   "source": [
    "Apply PCA"
   ]
  },
  {
   "cell_type": "code",
   "execution_count": null,
   "id": "6c0299ae-c5fb-4d08-9ffb-94c48c6e2611",
   "metadata": {},
   "outputs": [],
   "source": [
    "pca = PCA(n_components=4100)\n",
    "# pca = PCA()\n",
    "train_likesMAT_pca = pca.fit_transform(train_likesMAT_std)\n",
    "\n",
    "# Calculate the cumulative explained variance\n",
    "cumulative_variance_ratio = np.cumsum(pca.explained_variance_ratio_)\n",
    "\n",
    "# Determine the number of components to keep for 85% variance explained\n",
    "n_components = np.argmax(cumulative_variance_ratio >= 0.85) + 1"
   ]
  },
  {
   "cell_type": "code",
   "execution_count": null,
   "id": "3160f869-7e40-4a19-b566-e9ebe2eb8d90",
   "metadata": {},
   "outputs": [],
   "source": [
    "print(n_components)"
   ]
  },
  {
   "cell_type": "code",
   "execution_count": null,
   "id": "191b29e3-176f-4010-964f-14bd74ded84a",
   "metadata": {},
   "outputs": [],
   "source": [
    "print(cumulative_variance_ratio)"
   ]
  },
  {
   "cell_type": "code",
   "execution_count": null,
   "id": "5bb0b113-d53e-43db-8bef-394200efad26",
   "metadata": {},
   "outputs": [],
   "source": [
    "len(cumulative_variance_ratio)"
   ]
  },
  {
   "cell_type": "code",
   "execution_count": null,
   "id": "54143222-1886-4507-a897-e2ba1ccfa952",
   "metadata": {},
   "outputs": [],
   "source": [
    "print(cumulative_variance_ratio[3500:])"
   ]
  },
  {
   "cell_type": "code",
   "execution_count": null,
   "id": "a3e89c0f-0acc-42f4-9d1d-1b5a8b9f60a2",
   "metadata": {},
   "outputs": [],
   "source": []
  }
 ],
 "metadata": {
  "kernelspec": {
   "display_name": "keras_torch",
   "language": "python",
   "name": "keras_torch"
  },
  "language_info": {
   "codemirror_mode": {
    "name": "ipython",
    "version": 3
   },
   "file_extension": ".py",
   "mimetype": "text/x-python",
   "name": "python",
   "nbconvert_exporter": "python",
   "pygments_lexer": "ipython3",
   "version": "3.11.2"
  }
 },
 "nbformat": 4,
 "nbformat_minor": 5
}
