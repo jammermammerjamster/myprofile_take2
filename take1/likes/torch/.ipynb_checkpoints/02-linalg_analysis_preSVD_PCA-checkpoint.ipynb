{
 "cells": [
  {
   "cell_type": "code",
   "execution_count": 1,
   "id": "08060b87-a1ae-4dc8-b65e-c44b2531b16b",
   "metadata": {},
   "outputs": [
    {
     "name": "stdout",
     "output_type": "stream",
     "text": [
      "cuda\n"
     ]
    }
   ],
   "source": [
    "import pickle\n",
    "import numpy as np\n",
    "import pandas as pd\n",
    "from scipy import linalg, sparse\n",
    "from sklearn.model_selection import train_test_split\n",
    "from torch.utils.data import TensorDataset\n",
    "import torch\n",
    "\n",
    "device = torch.device('cuda' if torch.cuda.is_available() else 'cpu')\n",
    "print(device)"
   ]
  },
  {
   "cell_type": "code",
   "execution_count": 2,
   "id": "df5f7ad2-0439-4973-92f3-a0da3575d4d5",
   "metadata": {},
   "outputs": [],
   "source": [
    "import matplotlib.pyplot as pp\n",
    "from sklearn.decomposition import TruncatedSVD, PCA\n",
    "from scipy.sparse import csr_matrix\n",
    "from sklearn.preprocessing import StandardScaler"
   ]
  },
  {
   "cell_type": "markdown",
   "id": "bfbb5c81-df10-47b6-8b75-a4979633dd45",
   "metadata": {},
   "source": [
    "## 02 - Analyze the data to determine the *k*-value to use for SVD and PCA\n",
    "\n",
    "Determine the *k*-value to use for the SVD and PCA dimensional reductions"
   ]
  },
  {
   "cell_type": "markdown",
   "id": "084dffa9-ecc5-4bab-8dcc-e1774e2f5a88",
   "metadata": {},
   "source": [
    "### 2.1) Import Preprocessed data from step 1\n",
    "\n",
    "Import the likes data"
   ]
  },
  {
   "cell_type": "code",
   "execution_count": 3,
   "id": "0fee66f9-a5d5-4218-85ba-cec9ac1ab951",
   "metadata": {},
   "outputs": [
    {
     "data": {
      "text/plain": [
       "(9500, 536204)"
      ]
     },
     "execution_count": 3,
     "metadata": {},
     "output_type": "execute_result"
    }
   ],
   "source": [
    "likesMAT = pickle.load(open(\"likesMAT.pkl\",\"rb\"))\n",
    "likesMAT.shape"
   ]
  },
  {
   "cell_type": "markdown",
   "id": "51b8cfa8-8cd0-49fb-9c6e-777c79a08409",
   "metadata": {},
   "source": [
    "Import the ages data"
   ]
  },
  {
   "cell_type": "code",
   "execution_count": 4,
   "id": "922a3bf3-b5ff-4fd0-8003-751285332ea1",
   "metadata": {},
   "outputs": [
    {
     "data": {
      "text/plain": [
       "(9500, 4)"
      ]
     },
     "execution_count": 4,
     "metadata": {},
     "output_type": "execute_result"
    }
   ],
   "source": [
    "agesARR = pickle.load(open(\"agesARR.pkl\", \"rb\"))\n",
    "agesARR.shape"
   ]
  },
  {
   "cell_type": "markdown",
   "id": "d0053cff-3985-4415-b9cc-269228f25da2",
   "metadata": {},
   "source": [
    "Do a train/test split"
   ]
  },
  {
   "cell_type": "code",
   "execution_count": 5,
   "id": "07cbe87d-80a7-4b2b-8da2-39c8f49de3d1",
   "metadata": {},
   "outputs": [],
   "source": [
    "train_likesMAT, test_likesMAT, train_agesARR, test_agesARR = train_test_split(likesMAT, agesARR, test_size=0.05, random_state=42)"
   ]
  },
  {
   "cell_type": "markdown",
   "id": "52a7abde-8129-461e-b324-14cd8ce3e443",
   "metadata": {},
   "source": [
    "### 2.2) Compute eigenvalues\n",
    "\n",
    "First, get a square matrix of the smallest dimension"
   ]
  },
  {
   "cell_type": "code",
   "execution_count": 6,
   "id": "3fe68170-dc35-4625-b1d7-3e3546b1433b",
   "metadata": {},
   "outputs": [
    {
     "data": {
      "text/plain": [
       "(9025, 9025)"
      ]
     },
     "execution_count": 6,
     "metadata": {},
     "output_type": "execute_result"
    }
   ],
   "source": [
    "sq_likesMAT_1 = np.dot(train_likesMAT, train_likesMAT.T)\n",
    "sq_likesMAT_1.shape"
   ]
  },
  {
   "cell_type": "markdown",
   "id": "9e352a24-ddee-4688-be58-f7e7dea87a00",
   "metadata": {},
   "source": [
    "Convert the square matrix to a Torch tensor and move to GPU"
   ]
  },
  {
   "cell_type": "code",
   "execution_count": 7,
   "id": "679d913a-ec5a-4762-af11-ce7e49133bbf",
   "metadata": {},
   "outputs": [],
   "source": [
    "tensor_sq_likesMAT = torch.Tensor(sq_likesMAT_1.todense()) \\\n",
    "                            .to(torch.float) \\\n",
    "                            .cuda()"
   ]
  },
  {
   "cell_type": "markdown",
   "id": "1c73b425-3777-475d-bf99-e7a4f7583959",
   "metadata": {},
   "source": [
    "Compute the eigenvalues on the GPU, cast to reals only (*there should be no imaginary parts*), return to the CPU, and convert to a 1D numpy array"
   ]
  },
  {
   "cell_type": "code",
   "execution_count": 8,
   "id": "8cd2ee4d-b6c9-4637-8648-2ccd45d5e6b6",
   "metadata": {},
   "outputs": [
    {
     "name": "stdout",
     "output_type": "stream",
     "text": [
      "[6.3537473e+04 2.2188020e+04 8.9411445e+03 ... 3.0000000e+00 1.0000000e+00\n",
      " 4.0000000e+00]\n"
     ]
    },
    {
     "name": "stderr",
     "output_type": "stream",
     "text": [
      "/tmp/ipykernel_513220/2434637442.py:3: UserWarning: Casting complex values to real discards the imaginary part (Triggered internally at ../aten/src/ATen/native/Copy.cpp:305.)\n",
      "  sq_likesMAT_evals = tensor_sq_likesMAT_evals.eigenvalues.to(torch.float32).cpu().numpy()\n"
     ]
    }
   ],
   "source": [
    "tensor_sq_likesMAT_evals = torch.linalg.eig(tensor_sq_likesMAT)\n",
    "\n",
    "sq_likesMAT_evals = tensor_sq_likesMAT_evals.eigenvalues.to(torch.float32).cpu().numpy()\n",
    "print(sq_likesMAT_evals)"
   ]
  },
  {
   "cell_type": "markdown",
   "id": "78a9418a-a1d5-4a50-905f-489dd50c5fa8",
   "metadata": {},
   "source": [
    "Clean-up GPU VRAM to preserve available space to work"
   ]
  },
  {
   "cell_type": "code",
   "execution_count": 9,
   "id": "ee1f22ed-5ed7-4314-a6fb-94de788567a3",
   "metadata": {},
   "outputs": [],
   "source": [
    "del tensor_sq_likesMAT_evals\n",
    "del tensor_sq_likesMAT\n",
    "\n",
    "torch.cuda.empty_cache()"
   ]
  },
  {
   "cell_type": "markdown",
   "id": "59e51dd1-7971-4bb0-948f-2420b1f735f5",
   "metadata": {},
   "source": [
    "Print the last hundred of so eigenvalues"
   ]
  },
  {
   "cell_type": "code",
   "execution_count": 10,
   "id": "3c4b23d6-b2fb-472c-b7e1-b328ffad7be9",
   "metadata": {},
   "outputs": [
    {
     "name": "stdout",
     "output_type": "stream",
     "text": [
      "[ 1416.6212  1424.9427  1431.4845  1433.2416  1440.6545  1450.3794\n",
      "  1455.842   1461.4109  1469.2502  1474.6674  1477.4972  1483.5343\n",
      "  1486.3611  1491.1713  1501.9634  1506.4778  1516.9639  1524.8146\n",
      "  1533.9275  1540.9796  1545.8759  1554.0712  1558.0609  1573.9514\n",
      "  1576.1503  1579.3627  1587.3812  1594.5779  1604.7706  1611.6813\n",
      "  1617.3705  1625.2761  1628.5889  1646.7157  1649.5413  1665.5759\n",
      "  1672.8243  1677.8027  1687.4496  1698.9358  1708.5908  1715.1205\n",
      "  1719.5365  1725.8835  1740.2239  1743.7949  1756.3536  1758.2308\n",
      "  1762.363   1767.4417  1783.5022  1784.5676  1794.0527  1815.6042\n",
      "  1825.9872  1837.1259  1851.3584  1869.4486  1870.2681  1881.196\n",
      "  1890.1323  1898.6222  1910.1763  1918.031   1946.5208  1961.7018\n",
      "  1980.7522  1991.6781  2000.686   2021.0471  2029.815   2039.9099\n",
      "  2049.1328  2058.9482  2091.0684  2107.3264  2165.621   2175.3884\n",
      "  2189.7817  2193.0054  2210.5198  2236.471   2278.9412  2286.6223\n",
      "  2301.3767  2343.715   2364.4983  2381.6584  2387.3142  2393.6567\n",
      "  2441.937   2463.7544  2472.5789  2521.3394  2554.3816  2594.9824\n",
      "  2603.7148  2628.892   2655.6692  2701.3093  2724.8274  2790.076\n",
      "  2824.806   2880.2424  2931.7693  2995.611   3018.3306  3174.3274\n",
      "  3327.2778  3401.7192  3477.11    3522.3733  3655.6072  3870.5388\n",
      "  3951.4648  4371.934   4427.2583  4763.2153  4977.277   5323.729\n",
      "  5651.331   6224.9316  8941.145  22188.02   63537.473 ]\n"
     ]
    }
   ],
   "source": [
    "print(np.sort(sq_likesMAT_evals)[8900:])"
   ]
  },
  {
   "cell_type": "markdown",
   "id": "ea9816a4-8420-438a-8d17-348725765bb4",
   "metadata": {},
   "source": [
    "Plot the eigenvalues in order of magnitude"
   ]
  },
  {
   "cell_type": "code",
   "execution_count": 11,
   "id": "02fbc5d3-4bfb-4d04-bcdb-9034b61f3868",
   "metadata": {},
   "outputs": [
    {
     "data": {
      "image/png": "[encoded data removed]",
      "text/plain": [
       "<Figure size 640x480 with 1 Axes>"
      ]
     },
     "metadata": {},
     "output_type": "display_data"
    }
   ],
   "source": [
    "ind_to_start = 4000 #8050\n",
    "pp.plot(np.asarray(range(np.unique(sq_likesMAT_evals)[ind_to_start:].shape[0])), np.sort(np.unique(sq_likesMAT_evals))[ind_to_start:], 'x')\n",
    "pp.show()"
   ]
  },
  {
   "cell_type": "markdown",
   "id": "5c56e137-5e2c-4de5-9881-e9401a1d9164",
   "metadata": {},
   "source": [
    "Calculate the deltas between eigenvalues and print the last hundred or so"
   ]
  },
  {
   "cell_type": "code",
   "execution_count": 12,
   "id": "1e75ca79-b14b-4d53-a2d5-b7aab07db8f5",
   "metadata": {},
   "outputs": [
    {
     "data": {
      "text/plain": [
       "(9024,)"
      ]
     },
     "execution_count": 12,
     "metadata": {},
     "output_type": "execute_result"
    }
   ],
   "source": [
    "sq_likesMAT_evals_deltas = []\n",
    "for i in range(1, sq_likesMAT_evals.shape[0]):\n",
    "    sq_likesMAT_evals_deltas.append(np.sort(sq_likesMAT_evals)[i] - np.sort(sq_likesMAT_evals)[i-1])\n",
    "\n",
    "sq_likesMAT_evals_deltas = np.asarray(sq_likesMAT_evals_deltas)\n",
    "sq_likesMAT_evals_deltas.shape"
   ]
  },
  {
   "cell_type": "code",
   "execution_count": 13,
   "id": "a9f0d5ad-8c30-4a78-aa8e-bbf2cd11549e",
   "metadata": {},
   "outputs": [
    {
     "data": {
      "text/plain": [
       "(7859,)"
      ]
     },
     "execution_count": 13,
     "metadata": {},
     "output_type": "execute_result"
    }
   ],
   "source": [
    "np.unique(sq_likesMAT_evals_deltas).shape"
   ]
  },
  {
   "cell_type": "markdown",
   "id": "73e20b2e-a9a8-4ac7-b774-d9d284dde216",
   "metadata": {},
   "source": [
    "Print out the top values"
   ]
  },
  {
   "cell_type": "code",
   "execution_count": 14,
   "id": "a648ffd8-c6f3-4efa-af78-826c359f55e3",
   "metadata": {},
   "outputs": [
    {
     "name": "stdout",
     "output_type": "stream",
     "text": [
      "[5.47424316e+00 5.56030273e+00 5.56884766e+00 5.65576172e+00\n",
      " 5.68920898e+00 5.75695801e+00 5.77258301e+00 5.80798340e+00\n",
      " 5.96643066e+00 6.00866699e+00 6.03686523e+00 6.03710938e+00\n",
      " 6.10681152e+00 6.34252930e+00 6.34704590e+00 6.42761230e+00\n",
      " 6.46411133e+00 6.52966309e+00 6.54174805e+00 6.54467773e+00\n",
      " 6.91064453e+00 6.99169922e+00 7.05212402e+00 7.09802246e+00\n",
      " 7.09863281e+00 7.19665527e+00 7.24841309e+00 7.41296387e+00\n",
      " 7.68115234e+00 7.68176270e+00 7.83935547e+00 7.85070801e+00\n",
      " 7.85473633e+00 7.90563965e+00 7.98132324e+00 8.01855469e+00\n",
      " 8.13439941e+00 8.19531250e+00 8.32153320e+00 8.48986816e+00\n",
      " 8.52355957e+00 8.55151367e+00 8.73242188e+00 8.76782227e+00\n",
      " 8.82446289e+00 8.93627930e+00 9.00793457e+00 9.11291504e+00\n",
      " 9.22290039e+00 9.48510742e+00 9.64685059e+00 9.65502930e+00\n",
      " 9.72485352e+00 9.76733398e+00 9.81542969e+00 1.00949707e+01\n",
      " 1.01927490e+01 1.03829346e+01 1.04860840e+01 1.07824707e+01\n",
      " 1.07921143e+01 1.09197998e+01 1.09259033e+01 1.09279785e+01\n",
      " 1.11386719e+01 1.14862061e+01 1.15540771e+01 1.25587158e+01\n",
      " 1.42325439e+01 1.43403320e+01 1.43933105e+01 1.47543945e+01\n",
      " 1.51810303e+01 1.58905029e+01 1.60346680e+01 1.60605469e+01\n",
      " 1.62580566e+01 1.71601562e+01 1.75144043e+01 1.80902100e+01\n",
      " 1.81268311e+01 1.90504150e+01 2.03610840e+01 2.07832031e+01\n",
      " 2.15515137e+01 2.18173828e+01 2.27194824e+01 2.35180664e+01\n",
      " 2.51772461e+01 2.59511719e+01 2.67770996e+01 2.84897461e+01\n",
      " 3.21201172e+01 3.30422363e+01 3.47299805e+01 4.06008301e+01\n",
      " 4.23383789e+01 4.24702148e+01 4.52631836e+01 4.56401367e+01\n",
      " 4.82802734e+01 4.87604980e+01 5.15268555e+01 5.53242188e+01\n",
      " 5.54365234e+01 5.82946777e+01 6.38417969e+01 6.52485352e+01\n",
      " 7.44414062e+01 7.53908691e+01 8.09260254e+01 1.33233887e+02\n",
      " 1.52950439e+02 1.55996826e+02 2.14061523e+02 2.14931641e+02\n",
      " 3.27602051e+02 3.35957031e+02 3.46452148e+02 4.20469238e+02\n",
      " 5.73600586e+02 2.71621289e+03 1.32468750e+04 4.13494531e+04]\n"
     ]
    },
    {
     "data": {
      "text/plain": [
       "(124,)"
      ]
     },
     "execution_count": 14,
     "metadata": {},
     "output_type": "execute_result"
    }
   ],
   "source": [
    "print(np.sort(sq_likesMAT_evals_deltas)[8900:])\n",
    "np.sort(sq_likesMAT_evals_deltas)[8900:].shape"
   ]
  },
  {
   "cell_type": "markdown",
   "id": "ba322062-ecf2-47bc-8534-94ab5be65016",
   "metadata": {},
   "source": [
    "Plot the eigenvalue deltas in order of magnitude"
   ]
  },
  {
   "cell_type": "code",
   "execution_count": 15,
   "id": "8fa1604e-9c60-4414-8726-a680926d7a3b",
   "metadata": {},
   "outputs": [
    {
     "data": {
      "image/png": "[encoded data removed]",
      "text/plain": [
       "<Figure size 640x480 with 1 Axes>"
      ]
     },
     "metadata": {},
     "output_type": "display_data"
    }
   ],
   "source": [
    "ind_to_start = 2000\n",
    "pp.plot(np.asarray(range(sq_likesMAT_evals_deltas[ind_to_start:].shape[0])), np.sort(sq_likesMAT_evals_deltas)[ind_to_start:], 'x')\n",
    "pp.show()"
   ]
  },
  {
   "cell_type": "markdown",
   "id": "361d6856-c4aa-48d4-8afd-32f3131255c5",
   "metadata": {},
   "source": [
    "### 2.3) Compute PCA stuff\n",
    "\n",
    "PCA requires scaling our inputs, so we have"
   ]
  },
  {
   "cell_type": "code",
   "execution_count": 16,
   "id": "748c390e-d2a2-4b8c-b9eb-77216093c147",
   "metadata": {},
   "outputs": [],
   "source": [
    "scaler = StandardScaler(with_mean=False)\n",
    "train_likesMAT_std = scaler.fit_transform(train_likesMAT)\n",
    "test_likesMAT_std = scaler.transform(test_likesMAT)"
   ]
  },
  {
   "cell_type": "markdown",
   "id": "a06d31c0-a955-460d-881c-60e8a34dc32e",
   "metadata": {},
   "source": [
    "Apply PCA"
   ]
  },
  {
   "cell_type": "code",
   "execution_count": 17,
   "id": "6c0299ae-c5fb-4d08-9ffb-94c48c6e2611",
   "metadata": {},
   "outputs": [],
   "source": [
    "pca = PCA(n_components=4002)\n",
    "# pca = PCA()\n",
    "train_likesMAT_pca = pca.fit_transform(train_likesMAT_std)\n",
    "\n",
    "# Calculate the cumulative explained variance\n",
    "cumulative_variance_ratio = np.cumsum(pca.explained_variance_ratio_)\n",
    "\n",
    "# Determine the number of components to keep for 85% variance explained\n",
    "n_components = np.argmax(cumulative_variance_ratio >= 0.85) + 1"
   ]
  },
  {
   "cell_type": "code",
   "execution_count": 18,
   "id": "3160f869-7e40-4a19-b566-e9ebe2eb8d90",
   "metadata": {},
   "outputs": [
    {
     "name": "stdout",
     "output_type": "stream",
     "text": [
      "3791\n"
     ]
    }
   ],
   "source": [
    "print(n_components)"
   ]
  },
  {
   "cell_type": "code",
   "execution_count": 19,
   "id": "191b29e3-176f-4010-964f-14bd74ded84a",
   "metadata": {},
   "outputs": [
    {
     "name": "stdout",
     "output_type": "stream",
     "text": [
      "[0.00728038 0.01211694 0.01691937 ... 0.86281164 0.86287043 0.86292922]\n"
     ]
    }
   ],
   "source": [
    "print(cumulative_variance_ratio)"
   ]
  },
  {
   "cell_type": "code",
   "execution_count": 20,
   "id": "5bb0b113-d53e-43db-8bef-394200efad26",
   "metadata": {},
   "outputs": [
    {
     "data": {
      "text/plain": [
       "4002"
      ]
     },
     "execution_count": 20,
     "metadata": {},
     "output_type": "execute_result"
    }
   ],
   "source": [
    "len(cumulative_variance_ratio)"
   ]
  },
  {
   "cell_type": "code",
   "execution_count": 21,
   "id": "54143222-1886-4507-a897-e2ba1ccfa952",
   "metadata": {},
   "outputs": [
    {
     "name": "stdout",
     "output_type": "stream",
     "text": [
      "0.8629292156106335\n",
      "[0.84752008 0.84758405 0.847648   0.84771192 0.84777583 0.84783971\n",
      " 0.84790357 0.84796739 0.8480312  0.84809499 0.84815874 0.84822244\n",
      " 0.84828613 0.84834978 0.84841343 0.84847703 0.84854061 0.84860418\n",
      " 0.8486677  0.84873122 0.84879474 0.84885823 0.8489217  0.84898515\n",
      " 0.84904857 0.84911197 0.84917534 0.8492387  0.84930204 0.84936536\n",
      " 0.84942867 0.84949196 0.84955522 0.84961846 0.84968169 0.8497449\n",
      " 0.84980809 0.84987126 0.8499344  0.84999753 0.85006063 0.85012373\n",
      " 0.8501868  0.85024985 0.85031288 0.85037589 0.85043888 0.85050185\n",
      " 0.8505648  0.85062774 0.85069066 0.85075357 0.85081645 0.85087932\n",
      " 0.85094218 0.85100502 0.85106785 0.85113065 0.85119344 0.85125621\n",
      " 0.85131896 0.85138166 0.85144434 0.85150702 0.85156967 0.8516323\n",
      " 0.8516949  0.85175748 0.85182004 0.85188258 0.85194509 0.85200758\n",
      " 0.85207005 0.8521325  0.85219494 0.85225737 0.85231975 0.85238213\n",
      " 0.85244449 0.85250679 0.85256909 0.85263137 0.85269362 0.85275585\n",
      " 0.85281806 0.85288026 0.85294245 0.85300462 0.85306678 0.85312892\n",
      " 0.85319104 0.85325312 0.85331517 0.85337721 0.85343923 0.85350125\n",
      " 0.85356323 0.85362519 0.85368713 0.85374907 0.853811   0.85387291\n",
      " 0.85393482 0.85399671 0.85405858 0.85412045 0.85418229 0.85424412\n",
      " 0.85430596 0.85436778 0.85442958 0.85449137 0.85455314 0.85461487\n",
      " 0.8546766  0.85473831 0.8548     0.85486167 0.85492333 0.85498497\n",
      " 0.85504658 0.85510818 0.85516977 0.85523134 0.85529288 0.85535442\n",
      " 0.85541591 0.85547738 0.85553885 0.8556003  0.85566173 0.85572315\n",
      " 0.85578453 0.85584587 0.85590718 0.85596846 0.85602973 0.85609097\n",
      " 0.85615219 0.85621339 0.85627456 0.85633567 0.85639676 0.85645782\n",
      " 0.85651883 0.85657981 0.85664079 0.85670173 0.85676265 0.85682357\n",
      " 0.85688446 0.85694535 0.8570062  0.85706705 0.85712788 0.8571887\n",
      " 0.8572495  0.85731027 0.85737103 0.85743176 0.85749248 0.85755317\n",
      " 0.85761386 0.85767453 0.8577352  0.85779584 0.85785646 0.85791706\n",
      " 0.85797765 0.8580382  0.85809874 0.85815923 0.85821972 0.85828019\n",
      " 0.85834066 0.8584011  0.85846153 0.8585219  0.85858227 0.85864263\n",
      " 0.85870296 0.85876326 0.85882353 0.85888378 0.85894402 0.85900424\n",
      " 0.85906442 0.85912458 0.85918464 0.85924467 0.85930469 0.8593647\n",
      " 0.85942469 0.85948467 0.85954461 0.85960454 0.85966444 0.85972433\n",
      " 0.85978422 0.85984409 0.85990394 0.85996375 0.86002354 0.86008333\n",
      " 0.86014311 0.86020288 0.86026261 0.86032233 0.86038204 0.8604417\n",
      " 0.86050133 0.86056095 0.86062055 0.86068014 0.86073971 0.86079926\n",
      " 0.86085879 0.8609183  0.8609778  0.86103727 0.86109673 0.86115617\n",
      " 0.86121559 0.86127499 0.86133438 0.86139376 0.86145309 0.8615124\n",
      " 0.86157169 0.86163094 0.86169018 0.86174942 0.86180864 0.86186784\n",
      " 0.861927   0.86198612 0.86204523 0.86210434 0.86216341 0.86222245\n",
      " 0.86228148 0.86234047 0.86239946 0.86245843 0.86251738 0.86257628\n",
      " 0.86263515 0.862694   0.86275283 0.86281164 0.86287043 0.86292922]\n"
     ]
    }
   ],
   "source": [
    "print(max(cumulative_variance_ratio))\n",
    "print(cumulative_variance_ratio[3750:])"
   ]
  },
  {
   "cell_type": "code",
   "execution_count": null,
   "id": "a3e89c0f-0acc-42f4-9d1d-1b5a8b9f60a2",
   "metadata": {},
   "outputs": [],
   "source": []
  }
 ],
 "metadata": {
  "kernelspec": {
   "display_name": "keras_torch",
   "language": "python",
   "name": "keras_torch"
  },
  "language_info": {
   "codemirror_mode": {
    "name": "ipython",
    "version": 3
   },
   "file_extension": ".py",
   "mimetype": "text/x-python",
   "name": "python",
   "nbconvert_exporter": "python",
   "pygments_lexer": "ipython3",
   "version": "3.11.2"
  }
 },
 "nbformat": 4,
 "nbformat_minor": 5
}
