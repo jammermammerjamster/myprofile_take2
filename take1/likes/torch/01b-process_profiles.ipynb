{
 "cells": [
  {
   "cell_type": "code",
   "execution_count": 2,
   "id": "63743f55-0ada-45e7-bc2d-fca4a2c4e176",
   "metadata": {},
   "outputs": [],
   "source": [
    "import numpy as np\n",
    "import pandas as pd\n",
    "from sklearn.feature_extraction import DictVectorizer\n",
    "import pickle"
   ]
  },
  {
   "cell_type": "markdown",
   "id": "69c4973f-27a1-426a-914f-9dcf264474c6",
   "metadata": {},
   "source": [
    "## Import the profiles from the training dataset and process\n",
    "\n",
    "Import the profiles data"
   ]
  },
  {
   "cell_type": "code",
   "execution_count": 6,
   "id": "d041d740-68ae-43ad-8ed0-4fc96141674e",
   "metadata": {},
   "outputs": [
    {
     "data": {
      "text/html": [
       "<div>\n",
       "<style scoped>\n",
       "    .dataframe tbody tr th:only-of-type {\n",
       "        vertical-align: middle;\n",
       "    }\n",
       "\n",
       "    .dataframe tbody tr th {\n",
       "        vertical-align: top;\n",
       "    }\n",
       "\n",
       "    .dataframe thead th {\n",
       "        text-align: right;\n",
       "    }\n",
       "</style>\n",
       "<table border=\"1\" class=\"dataframe\">\n",
       "  <thead>\n",
       "    <tr style=\"text-align: right;\">\n",
       "      <th></th>\n",
       "      <th>userid</th>\n",
       "      <th>age</th>\n",
       "      <th>gender</th>\n",
       "      <th>ope</th>\n",
       "      <th>con</th>\n",
       "      <th>ext</th>\n",
       "      <th>agr</th>\n",
       "      <th>neu</th>\n",
       "    </tr>\n",
       "    <tr>\n",
       "      <th>data_id</th>\n",
       "      <th></th>\n",
       "      <th></th>\n",
       "      <th></th>\n",
       "      <th></th>\n",
       "      <th></th>\n",
       "      <th></th>\n",
       "      <th></th>\n",
       "      <th></th>\n",
       "    </tr>\n",
       "  </thead>\n",
       "  <tbody>\n",
       "    <tr>\n",
       "      <th>0</th>\n",
       "      <td>7267f43c71fcf53f4580fd3cd808bd48</td>\n",
       "      <td>26.0</td>\n",
       "      <td>0.0</td>\n",
       "      <td>4.00</td>\n",
       "      <td>2.25</td>\n",
       "      <td>2.20</td>\n",
       "      <td>3.60</td>\n",
       "      <td>2.80</td>\n",
       "    </tr>\n",
       "    <tr>\n",
       "      <th>1</th>\n",
       "      <td>e1cdac10d136e76e064e4860007d786d</td>\n",
       "      <td>24.0</td>\n",
       "      <td>0.0</td>\n",
       "      <td>4.20</td>\n",
       "      <td>3.35</td>\n",
       "      <td>2.45</td>\n",
       "      <td>3.90</td>\n",
       "      <td>2.60</td>\n",
       "    </tr>\n",
       "    <tr>\n",
       "      <th>2</th>\n",
       "      <td>ea4b8b534a35f59713f61f29b8725d09</td>\n",
       "      <td>27.0</td>\n",
       "      <td>1.0</td>\n",
       "      <td>2.75</td>\n",
       "      <td>4.80</td>\n",
       "      <td>3.15</td>\n",
       "      <td>3.85</td>\n",
       "      <td>4.15</td>\n",
       "    </tr>\n",
       "    <tr>\n",
       "      <th>3</th>\n",
       "      <td>c7bb07b4b9ccd28cd0bc285194da5c72</td>\n",
       "      <td>29.0</td>\n",
       "      <td>1.0</td>\n",
       "      <td>3.40</td>\n",
       "      <td>3.20</td>\n",
       "      <td>2.10</td>\n",
       "      <td>3.70</td>\n",
       "      <td>2.35</td>\n",
       "    </tr>\n",
       "    <tr>\n",
       "      <th>4</th>\n",
       "      <td>e8b8f7f4f40ea6babfa9a2a967ff1866</td>\n",
       "      <td>25.0</td>\n",
       "      <td>0.0</td>\n",
       "      <td>4.40</td>\n",
       "      <td>3.25</td>\n",
       "      <td>4.00</td>\n",
       "      <td>2.89</td>\n",
       "      <td>2.35</td>\n",
       "    </tr>\n",
       "  </tbody>\n",
       "</table>\n",
       "</div>"
      ],
      "text/plain": [
       "                                   userid   age  gender   ope   con   ext  \\\n",
       "data_id                                                                     \n",
       "0        7267f43c71fcf53f4580fd3cd808bd48  26.0     0.0  4.00  2.25  2.20   \n",
       "1        e1cdac10d136e76e064e4860007d786d  24.0     0.0  4.20  3.35  2.45   \n",
       "2        ea4b8b534a35f59713f61f29b8725d09  27.0     1.0  2.75  4.80  3.15   \n",
       "3        c7bb07b4b9ccd28cd0bc285194da5c72  29.0     1.0  3.40  3.20  2.10   \n",
       "4        e8b8f7f4f40ea6babfa9a2a967ff1866  25.0     0.0  4.40  3.25  4.00   \n",
       "\n",
       "          agr   neu  \n",
       "data_id              \n",
       "0        3.60  2.80  \n",
       "1        3.90  2.60  \n",
       "2        3.85  4.15  \n",
       "3        3.70  2.35  \n",
       "4        2.89  2.35  "
      ]
     },
     "execution_count": 6,
     "metadata": {},
     "output_type": "execute_result"
    }
   ],
   "source": [
    "profilesDF=pd.read_csv(\"/home/jamster/old-repos/ml2018-projectDATA/tcss555/training/profile/profile.csv\")\n",
    "profilesDF = profilesDF.rename(columns={\"Unnamed: 0\": \"data_id\"}).set_index(\"data_id\")\n",
    "profilesDF.head()"
   ]
  },
  {
   "cell_type": "markdown",
   "id": "48f1219f-abe2-43e1-927a-b11ec83d81d0",
   "metadata": {},
   "source": [
    "Get the values of the relevant columns and convert them to a list"
   ]
  },
  {
   "cell_type": "code",
   "execution_count": 7,
   "id": "ad317d6e-8c08-49ea-9e6f-85dd77e140e7",
   "metadata": {},
   "outputs": [],
   "source": [
    "profiles=profilesDF[['userid', 'age', 'gender', 'ope', 'con', 'ext', 'agr', 'neu']].values.copy()\n",
    "profilesLSo=profiles.tolist().copy()"
   ]
  },
  {
   "cell_type": "markdown",
   "id": "548228f8-d2fe-4999-9165-8d7217a56356",
   "metadata": {},
   "source": [
    "Categorize the ages"
   ]
  },
  {
   "cell_type": "code",
   "execution_count": 8,
   "id": "d84625e9-5cf1-49e9-a65d-83463a5e2385",
   "metadata": {},
   "outputs": [],
   "source": [
    "profilesLS=[]\n",
    "for row in profilesLSo:\n",
    "\ttmpLS=row\n",
    "\ttmpAGE=row[1]\n",
    "\n",
    "\tif tmpAGE < 25:\n",
    "\t\ttmpLS[1]=1\n",
    "\telif tmpAGE < 35:\n",
    "\t\ttmpLS[1]=2\n",
    "\telif tmpAGE < 50:\n",
    "\t\ttmpLS[1]=3\n",
    "\telse:\n",
    "\t\ttmpLS[1]=4\n",
    "\n",
    "\tprofilesLS.append(tmpLS)"
   ]
  },
  {
   "cell_type": "markdown",
   "id": "c68ca60b-7584-4d84-a3c1-9223641fe346",
   "metadata": {},
   "source": [
    " Align the profiles data with the indexing of the likes data"
   ]
  },
  {
   "cell_type": "code",
   "execution_count": 9,
   "id": "e323ba39-2355-4012-8724-f3f239fd858e",
   "metadata": {},
   "outputs": [
    {
     "ename": "NameError",
     "evalue": "name 'unqLikesUIDs' is not defined",
     "output_type": "error",
     "traceback": [
      "\u001b[0;31m---------------------------------------------------------------------------\u001b[0m",
      "\u001b[0;31mNameError\u001b[0m                                 Traceback (most recent call last)",
      "Cell \u001b[0;32mIn[9], line 6\u001b[0m\n\u001b[1;32m      3\u001b[0m \tprofsTOlikes\u001b[38;5;241m.\u001b[39mappend([])\n\u001b[1;32m      5\u001b[0m \u001b[38;5;28;01mfor\u001b[39;00m row \u001b[38;5;129;01min\u001b[39;00m profilesLS:\n\u001b[0;32m----> 6\u001b[0m \ttmpIND \u001b[38;5;241m=\u001b[39m \u001b[43munqLikesUIDs\u001b[49m\u001b[38;5;241m.\u001b[39mindex(row[\u001b[38;5;241m0\u001b[39m])\n\u001b[1;32m      7\u001b[0m \tprofsTOlikes[tmpIND]\u001b[38;5;241m=\u001b[39mrow\n\u001b[1;32m      9\u001b[0m profsTOlikes1\u001b[38;5;241m=\u001b[39m\u001b[38;5;28mlist\u001b[39m(\u001b[38;5;28mmap\u001b[39m(\u001b[38;5;28mlist\u001b[39m, \u001b[38;5;28mzip\u001b[39m(\u001b[38;5;241m*\u001b[39mprofsTOlikes)))\n",
      "\u001b[0;31mNameError\u001b[0m: name 'unqLikesUIDs' is not defined"
     ]
    }
   ],
   "source": [
    "profsTOlikes=[]\n",
    "for i in range(len(profilesLS)):\n",
    "\tprofsTOlikes.append([])\n",
    "\n",
    "for row in profilesLS:\n",
    "\ttmpIND = unqLikesUIDs.index(row[0])\n",
    "\tprofsTOlikes[tmpIND]=row\n",
    "\n",
    "profsTOlikes1=list(map(list, zip(*profsTOlikes)))"
   ]
  },
  {
   "cell_type": "code",
   "execution_count": null,
   "id": "dcd0ab65-a16d-4194-9142-ee61ba7cb5ab",
   "metadata": {},
   "outputs": [],
   "source": []
  }
 ],
 "metadata": {
  "kernelspec": {
   "display_name": "keras_torch",
   "language": "python",
   "name": "keras_torch"
  },
  "language_info": {
   "codemirror_mode": {
    "name": "ipython",
    "version": 3
   },
   "file_extension": ".py",
   "mimetype": "text/x-python",
   "name": "python",
   "nbconvert_exporter": "python",
   "pygments_lexer": "ipython3",
   "version": "3.11.2"
  }
 },
 "nbformat": 4,
 "nbformat_minor": 5
}
